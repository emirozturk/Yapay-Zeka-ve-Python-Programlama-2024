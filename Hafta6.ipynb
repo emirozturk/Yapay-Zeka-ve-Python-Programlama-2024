{
 "cells": [
  {
   "cell_type": "code",
   "execution_count": 2,
   "metadata": {},
   "outputs": [
    {
     "name": "stdout",
     "output_type": "stream",
     "text": [
      "[0, 1, 4, 9, 16, 25, 36, 49, 64, 81]\n"
     ]
    }
   ],
   "source": [
    "liste = [i**2 for i in range(10)]\n",
    "print(liste)"
   ]
  },
  {
   "cell_type": "code",
   "execution_count": 4,
   "metadata": {},
   "outputs": [
    {
     "name": "stdout",
     "output_type": "stream",
     "text": [
      "9\n",
      "[0, 1, 4, 9, 16, 27, 36, 49, 64, 81]\n"
     ]
    }
   ],
   "source": [
    "print(liste[3])\n",
    "liste[5]= 27\n",
    "print(liste)"
   ]
  },
  {
   "cell_type": "code",
   "execution_count": 15,
   "metadata": {},
   "outputs": [
    {
     "name": "stdout",
     "output_type": "stream",
     "text": [
      "[0, 1, 4, 9, 16, 38, 36, 49, 64, 81]\n"
     ]
    }
   ],
   "source": [
    "liste[5]+=1\n",
    "print(liste)"
   ]
  },
  {
   "cell_type": "code",
   "execution_count": 24,
   "metadata": {},
   "outputs": [
    {
     "name": "stdout",
     "output_type": "stream",
     "text": [
      "[4, 9, 16]\n",
      "[4, 38]\n",
      "[38, 36, 49, 64, 81]\n",
      "[0, 1, 4, 9, 16]\n",
      "[0, 1, 4, 9, 16, 38, 36, 49, 64, 81]\n"
     ]
    }
   ],
   "source": [
    "alt_liste = liste[2:5]\n",
    "print(alt_liste)\n",
    "ikinci_alt_liste = liste[2:7:3]\n",
    "print(ikinci_alt_liste)\n",
    "print(liste[5:])\n",
    "print(liste[:5])\n",
    "print(liste)"
   ]
  },
  {
   "cell_type": "code",
   "execution_count": 26,
   "metadata": {},
   "outputs": [
    {
     "name": "stdout",
     "output_type": "stream",
     "text": [
      "[0, 1, 4, 9, 16, 56, 38, 38, 36, 49, 64, 81]\n"
     ]
    }
   ],
   "source": [
    "liste.insert(5,56)\n",
    "print(liste)"
   ]
  },
  {
   "cell_type": "code",
   "execution_count": 30,
   "metadata": {},
   "outputs": [
    {
     "name": "stdout",
     "output_type": "stream",
     "text": [
      "[0, 1, 4, 9, 16, 56, 38, 38, 36, 49, 64, 81, 42, 42, 1, 2, 3, 42, 1, 2, 3, 4, 5, 6, 42]\n",
      "[0, 1, 4, 9, 16, 56, 38, 38, 36, 49, 64, 81, 42, 42, 1, 2, 3, 42, 1, 2, 3, 4, 5, 6, 42, 1, 2, 3]\n",
      "[0, 1, 4, 9, 16, 56, 38, 38, 36, 49, 64, 81, 42, 42, 1, 2, 3, 42, 1, 2, 3, 4, 5, 6, 42, 1, 2, 3, 4, 5, 6]\n",
      "608\n"
     ]
    }
   ],
   "source": [
    "liste.append(42)\n",
    "print(liste)\n",
    "liste.extend([1,2,3])\n",
    "print(liste)\n",
    "liste += [4,5,6]\n",
    "print(liste)\n",
    "print(sum(liste))"
   ]
  },
  {
   "cell_type": "code",
   "execution_count": null,
   "metadata": {},
   "outputs": [],
   "source": [
    "#Değişiklik yapılacaksa\n",
    "for i in range(0,len(liste)):\n",
    "    x= liste[i]\n",
    "#Değişiklik gerekmiyorsa\n",
    "for e in liste:\n",
    "    x = e"
   ]
  },
  {
   "cell_type": "code",
   "execution_count": 33,
   "metadata": {},
   "outputs": [
    {
     "name": "stdout",
     "output_type": "stream",
     "text": [
      "5 3\n",
      "(5, 3)\n",
      "5\n",
      "3\n"
     ]
    }
   ],
   "source": [
    "a=3\n",
    "b=5\n",
    "a,b=b,a\n",
    "print(a,b)\n",
    "x = a,b\n",
    "print(x)\n",
    "d1,d2 = x\n",
    "print(d1)\n",
    "print(d2)"
   ]
  },
  {
   "cell_type": "code",
   "execution_count": 36,
   "metadata": {},
   "outputs": [
    {
     "name": "stdout",
     "output_type": "stream",
     "text": [
      "ü\n"
     ]
    },
    {
     "ename": "TypeError",
     "evalue": "'str' object does not support item assignment",
     "output_type": "error",
     "traceback": [
      "\u001b[0;31m---------------------------------------------------------------------------\u001b[0m",
      "\u001b[0;31mTypeError\u001b[0m                                 Traceback (most recent call last)",
      "Cell \u001b[0;32mIn[36], line 5\u001b[0m\n\u001b[1;32m      2\u001b[0m \u001b[38;5;66;03m#for e in metin:\u001b[39;00m\n\u001b[1;32m      3\u001b[0m \u001b[38;5;66;03m#    print(e)\u001b[39;00m\n\u001b[1;32m      4\u001b[0m \u001b[38;5;28mprint\u001b[39m(metin[\u001b[38;5;241m3\u001b[39m])\n\u001b[0;32m----> 5\u001b[0m \u001b[43mmetin\u001b[49m\u001b[43m[\u001b[49m\u001b[38;5;241;43m3\u001b[39;49m\u001b[43m]\u001b[49m\u001b[38;5;241m=\u001b[39m\u001b[38;5;124m'\u001b[39m\u001b[38;5;124ma\u001b[39m\u001b[38;5;124m'\u001b[39m\n",
      "\u001b[0;31mTypeError\u001b[0m: 'str' object does not support item assignment"
     ]
    }
   ],
   "source": [
    "metin = \"Bugün hava çok güzel\"\n",
    "#for e in metin:\n",
    "#    print(e)\n",
    "print(metin[3])\n",
    "metin[3]='a'"
   ]
  },
  {
   "cell_type": "code",
   "execution_count": 38,
   "metadata": {},
   "outputs": [
    {
     "name": "stdout",
     "output_type": "stream",
     "text": [
      "abcefd\n",
      "bc\n"
     ]
    }
   ],
   "source": [
    "str1 = \"abc\"\n",
    "str2 = \"efd\"\n",
    "str3 = str1+str2\n",
    "print(str3)\n",
    "print(str3[1:3])"
   ]
  },
  {
   "cell_type": "code",
   "execution_count": 50,
   "metadata": {},
   "outputs": [
    {
     "name": "stdout",
     "output_type": "stream",
     "text": [
      "{1, 2, 3, 4, 5, 6, 7, 8}\n",
      "{4, 5}\n",
      "{1, 2, 3}\n",
      "{8, 6, 7}\n",
      "{1, 2, 3, 6, 7, 8}\n",
      "False\n"
     ]
    }
   ],
   "source": [
    "s1 = {1,2,3,4,5}\n",
    "s2 = {4,5,6,7,8}\n",
    "s3 = {5,6}\n",
    "print(s1 | s2)\n",
    "print(s1 & s2)\n",
    "print(s1-s2)\n",
    "print(s2-s1)\n",
    "print(s1 ^ s2)\n",
    "print(s3 < s2)"
   ]
  },
  {
   "cell_type": "code",
   "execution_count": 60,
   "metadata": {},
   "outputs": [
    {
     "name": "stdout",
     "output_type": "stream",
     "text": [
      "185\n",
      "Emir 172\n",
      "Kaan 185\n",
      "Tuğçe 175\n",
      "Emir 172\n",
      "Kaan 185\n",
      "Tuğçe 175\n",
      "172\n",
      "185\n",
      "175\n",
      "<class 'dict'> <class 'set'>\n"
     ]
    }
   ],
   "source": [
    "kume = set()\n",
    "sozluk = {\"Emir\":172,\"Kaan\":185,\"Tuğçe\":175}\n",
    "print(sozluk[\"Kaan\"])\n",
    "for k,v in sozluk.items():\n",
    "    print(k,v)\n",
    "for eleman in sozluk:\n",
    "    print(eleman,sozluk[eleman])\n",
    "#for anahtar in sozluk.keys():\n",
    "for deger in sozluk.values():\n",
    "    print(deger)\n",
    "print(type(sozluk),type(kume))"
   ]
  },
  {
   "cell_type": "markdown",
   "metadata": {},
   "source": [
    "Üç adet 10 tamsayı içeren liste tanımlansın. 10 adet sayı girilen yeni bir listenin hangi listeye daha yakın olduğunu belirlenen bir yöntem ile tespit ediniz."
   ]
  },
  {
   "cell_type": "code",
   "execution_count": 73,
   "metadata": {},
   "outputs": [
    {
     "name": "stdout",
     "output_type": "stream",
     "text": [
      "[32, 5, 25, 21, 47, 46, 4, 46, 45, 14, 48, 44, 41, 23, 42, 37, 5, 27, 41, 23] [2, 17, 8, 42, 43, 21, 25, 4, 30, 19, 2, 1, 12, 49, 48, 17, 29, 14, 25, 40] [26, 50, 7, 26, 1, 30, 26, 4, 1, 24, 7, 25, 44, 36, 22, 19, 49, 33, 50, 14]\n"
     ]
    }
   ],
   "source": [
    "import random\n",
    "liste1=[];liste2=[];liste3=[];aranan=[]\n",
    "for i in range(20):\n",
    "    sayi = random.randint(1,50)\n",
    "    liste1.append(sayi)\n",
    "\n",
    "for i in range(20):\n",
    "    sayi = random.randint(1,50)\n",
    "    liste2.append(sayi)\n",
    "\n",
    "for i in range(20):\n",
    "    sayi = random.randint(1,50)\n",
    "    liste3.append(sayi)\n",
    "\n",
    "for i in range(20):\n",
    "    sayi = random.randint(1,50)\n",
    "    aranan.append(sayi)\n",
    "\n",
    "\n",
    "\n",
    "print(liste1,liste2,liste3)"
   ]
  },
  {
   "cell_type": "markdown",
   "metadata": {},
   "source": [
    "Rastgele 1-10 arası n adet sayı tutup hangi sayıdan kaç adet geçtiğini gösteren uygulama"
   ]
  },
  {
   "cell_type": "code",
   "execution_count": 71,
   "metadata": {},
   "outputs": [
    {
     "name": "stdout",
     "output_type": "stream",
     "text": [
      "[4, 5, 3, 5, 10, 5, 6, 8, 10, 8, 9, 9, 10, 2, 7, 4, 7, 3, 6, 10]\n",
      "Anahtar: 4, Değer: 2\n",
      "Anahtar: 5, Değer: 3\n",
      "Anahtar: 3, Değer: 2\n",
      "Anahtar: 10, Değer: 4\n",
      "Anahtar: 6, Değer: 2\n",
      "Anahtar: 8, Değer: 2\n",
      "Anahtar: 9, Değer: 2\n",
      "Anahtar: 2, Değer: 1\n",
      "Anahtar: 7, Değer: 2\n",
      "-----------\n",
      "Anahtar: 10, Değer: 4\n",
      "Anahtar: 5, Değer: 3\n",
      "Anahtar: 4, Değer: 2\n",
      "Anahtar: 3, Değer: 2\n",
      "Anahtar: 6, Değer: 2\n",
      "Anahtar: 8, Değer: 2\n",
      "Anahtar: 9, Değer: 2\n",
      "Anahtar: 7, Değer: 2\n",
      "Anahtar: 2, Değer: 1\n"
     ]
    }
   ],
   "source": [
    "import random\n",
    "n = 20\n",
    "liste = []\n",
    "for i in range(20):\n",
    "    sayi = random.randint(1,10)\n",
    "    liste.append(sayi)\n",
    "print(liste)\n",
    "sozluk={}\n",
    "for eleman in liste:\n",
    "    if eleman in sozluk.keys():\n",
    "        sozluk[eleman]+=1\n",
    "    else:\n",
    "        sozluk[eleman]=1\n",
    "\n",
    "for anahtar in sozluk:\n",
    "    print(f\"Anahtar: {anahtar}, Değer: {sozluk[anahtar]}\")\n",
    "print(\"-----------\")\n",
    "for eleman in sorted(list(sozluk.items()),key=lambda x: x[1],reverse=True):\n",
    "    anahtar,deger = eleman\n",
    "    print(f\"Anahtar: {anahtar}, Değer: {deger}\")"
   ]
  },
  {
   "cell_type": "markdown",
   "metadata": {},
   "source": []
  }
 ],
 "metadata": {
  "kernelspec": {
   "display_name": "base",
   "language": "python",
   "name": "python3"
  },
  "language_info": {
   "codemirror_mode": {
    "name": "ipython",
    "version": 3
   },
   "file_extension": ".py",
   "mimetype": "text/x-python",
   "name": "python",
   "nbconvert_exporter": "python",
   "pygments_lexer": "ipython3",
   "version": "3.12.2"
  }
 },
 "nbformat": 4,
 "nbformat_minor": 2
}
