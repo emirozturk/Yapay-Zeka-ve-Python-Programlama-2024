{
 "cells": [
  {
   "cell_type": "code",
   "execution_count": 11,
   "metadata": {},
   "outputs": [
    {
     "name": "stdout",
     "output_type": "stream",
     "text": [
      "Sayi 10 ile 20 arasında\n"
     ]
    }
   ],
   "source": [
    "sayi = int(input(\"Sayı giriniz\"))\n",
    "if sayi<10:\n",
    "    print(\"Sayi 10'dan küçük\")\n",
    "if sayi>=10 and sayi<20:\n",
    "    print(\"Sayi 10 ile 20 arasında\")\n",
    "if sayi>=20 and sayi<30:\n",
    "    print(\"Sayi 20 ile 30 arasında\")"
   ]
  },
  {
   "cell_type": "code",
   "execution_count": 13,
   "metadata": {},
   "outputs": [],
   "source": [
    "sayi = int(input(\"Sayı giriniz\"))\n",
    "if sayi<10:\n",
    "    print(\"Sayi 10'dan küçük\")\n",
    "elif sayi<20:\n",
    "    print(\"Sayi 10 ile 20 arasında\")\n",
    "elif sayi<30:\n",
    "    print(\"Sayi 20 ile 30 arasında\")"
   ]
  },
  {
   "cell_type": "code",
   "execution_count": 14,
   "metadata": {},
   "outputs": [
    {
     "name": "stdout",
     "output_type": "stream",
     "text": [
      "Sayı 0-30 aralığında değil\n"
     ]
    }
   ],
   "source": [
    "sayi = int(input(\"Sayı giriniz\"))\n",
    "if sayi<10:\n",
    "    print(\"Sayi 10'dan küçük\")\n",
    "elif sayi<20:\n",
    "    print(\"Sayi 10 ile 20 arasında\")\n",
    "elif sayi<30:\n",
    "    print(\"Sayi 20 ile 30 arasında\")\n",
    "else:\n",
    "    print(\"Sayı 0-30 aralığında değil\")"
   ]
  },
  {
   "cell_type": "markdown",
   "metadata": {},
   "source": [
    "Girilen sayının tek veya çift olduğunu tespit eden program"
   ]
  },
  {
   "cell_type": "code",
   "execution_count": 19,
   "metadata": {},
   "outputs": [
    {
     "name": "stdout",
     "output_type": "stream",
     "text": [
      "Çift\n"
     ]
    }
   ],
   "source": [
    "sayi = int(input(\"Sayı giriniz\"))\n",
    "if sayi % 2==1: #Eğer sonuc == 1'se\n",
    "    print(\"Tek\")#Tek\n",
    "else: #Değilse\n",
    "    print(\"Çift\") #Çift\n"
   ]
  },
  {
   "cell_type": "markdown",
   "metadata": {},
   "source": [
    "Bir sayının mutlak değerini alıp ekrana gösteren program"
   ]
  },
  {
   "cell_type": "code",
   "execution_count": 20,
   "metadata": {},
   "outputs": [
    {
     "name": "stdout",
     "output_type": "stream",
     "text": [
      "5\n"
     ]
    }
   ],
   "source": [
    "print(abs(-5))"
   ]
  },
  {
   "cell_type": "code",
   "execution_count": 21,
   "metadata": {},
   "outputs": [
    {
     "name": "stdout",
     "output_type": "stream",
     "text": [
      "5\n"
     ]
    }
   ],
   "source": [
    "sayi = -5\n",
    "if sayi <0:\n",
    "    sayi*=-1#sayi = 0-sayi\n",
    "print(sayi)"
   ]
  },
  {
   "cell_type": "markdown",
   "metadata": {},
   "source": [
    "Klavyeden girilen 2 sayıdan birincisi büyük ise ikisini çarpan, değilse ikisini toplayan ve sonucu ekranda gösteren program"
   ]
  },
  {
   "cell_type": "code",
   "execution_count": 23,
   "metadata": {},
   "outputs": [
    {
     "name": "stdout",
     "output_type": "stream",
     "text": [
      "15\n"
     ]
    }
   ],
   "source": [
    "sayi1 = int(input(\"Birinci sayı\"))#Klavyeden birinci sayıyı gir\n",
    "sayi2 = int(input(\"İkinci sayı\"))#Klavyeden ikinci sayıyı gir\n",
    "if sayi1>sayi2:#Eğer sayı1 sayı2'den büyükse\n",
    "    sonuc = sayi1*sayi2#iki sayıyı çarp\n",
    "else:#Değilse\n",
    "    sonuc = sayi1+sayi2#iki sayıyı topla\n",
    "print(sonuc)#sonucu göster"
   ]
  },
  {
   "cell_type": "markdown",
   "metadata": {},
   "source": [
    "Girilen 3 sayıdan en büyük olanını bulan program"
   ]
  },
  {
   "cell_type": "code",
   "execution_count": 27,
   "metadata": {},
   "outputs": [
    {
     "name": "stdout",
     "output_type": "stream",
     "text": [
      "Sayi3\n"
     ]
    }
   ],
   "source": [
    "sayi1 = 15\n",
    "sayi2 = 10\n",
    "sayi3 = 17\n",
    "sayi4 = 18\n",
    "if sayi1>sayi2:\n",
    "    if sayi1>sayi3:\n",
    "        print(\"Sayi1\")\n",
    "    else:\n",
    "        print(\"Sayi3\")\n",
    "else:\n",
    "    if sayi2>sayi3:\n",
    "        print(\"Sayi2\")\n",
    "    else:\n",
    "        print(\"Sayi3\")"
   ]
  },
  {
   "cell_type": "code",
   "execution_count": null,
   "metadata": {},
   "outputs": [],
   "source": [
    "sayi1 = 15\n",
    "sayi2 = 10\n",
    "sayi3 = 17\n",
    "enBuyuk = sayi1\n",
    "if sayi2>enBuyuk:\n",
    "    enBuyuk = sayi2\n",
    "if sayi3>enBuyuk:\n",
    "    enBuyuk = sayi3\n",
    "print(enBuyuk)"
   ]
  },
  {
   "cell_type": "code",
   "execution_count": 28,
   "metadata": {},
   "outputs": [
    {
     "name": "stdout",
     "output_type": "stream",
     "text": [
      "38\n"
     ]
    }
   ],
   "source": [
    "liste =[10,5,1,27,38,18] \n",
    "enBuyuk = liste[0]\n",
    "for eleman in liste:\n",
    "    if eleman>enBuyuk:\n",
    "        enBuyuk = eleman\n",
    "print(enBuyuk)"
   ]
  },
  {
   "cell_type": "markdown",
   "metadata": {},
   "source": [
    "BMI hesabı yapan program"
   ]
  },
  {
   "cell_type": "code",
   "execution_count": 32,
   "metadata": {},
   "outputs": [
    {
     "name": "stdout",
     "output_type": "stream",
     "text": [
      "Çıtır hasarlı\n"
     ]
    }
   ],
   "source": [
    "boy = float(input(\"Boy (m)\"))\n",
    "kilo = int(input(\"Kilo (kg)\"))\n",
    "bmi = kilo / (boy * boy)\n",
    "if bmi < 18:\n",
    "    print(\"Sen ölmüşsün\")\n",
    "elif bmi < 25:\n",
    "    print(\"İnsani\")\n",
    "elif bmi < 30:\n",
    "    print(\"Çıtır hasarlı\")\n",
    "elif bmi < 35:\n",
    "    print(\"Obez\")\n",
    "elif bmi < 40:\n",
    "    print(\"Daha Obez\")\n",
    "else:\n",
    "    print(\"Çok obez\")"
   ]
  },
  {
   "cell_type": "markdown",
   "metadata": {},
   "source": [
    "Bir mağaza için sipariş tutarı ve kg değerleri ekrandan girilecek ve kg başına 1 tl kargo ücreti fiyata eklenip gösterilecektir. Bu tutar kargo hariç 100 TL’nin üstündeyse kargo ücreti hesaplanmayacaktır.  Ayrıca tutar 200 TL’nin üzerinde ise toplam fiyata %10 indirim uygulanacaktır. "
   ]
  },
  {
   "cell_type": "code",
   "execution_count": 33,
   "metadata": {},
   "outputs": [
    {
     "name": "stdout",
     "output_type": "stream",
     "text": [
      "225.0\n"
     ]
    }
   ],
   "source": [
    "siparis_tutari = int(input(\"Sipariş tutarı\"))\n",
    "kg = int(input(\"Kg\"))\n",
    "kargo_ucreti = kg#kargo ücretini hesapla\n",
    "if siparis_tutari <100: #siparis_tutari 100'tlin altındaysa kargo ekle\n",
    "    siparis_tutari += kargo_ucreti\n",
    "if siparis_tutari >=200:#200 üstündeyse\n",
    "    siparis_tutari*=.9#siparis_tutari'ni yüzde on düşür\n",
    "print(siparis_tutari)#Ekrana göster"
   ]
  }
 ],
 "metadata": {
  "kernelspec": {
   "display_name": "base",
   "language": "python",
   "name": "python3"
  },
  "language_info": {
   "codemirror_mode": {
    "name": "ipython",
    "version": 3
   },
   "file_extension": ".py",
   "mimetype": "text/x-python",
   "name": "python",
   "nbconvert_exporter": "python",
   "pygments_lexer": "ipython3",
   "version": "3.12.2"
  }
 },
 "nbformat": 4,
 "nbformat_minor": 2
}
