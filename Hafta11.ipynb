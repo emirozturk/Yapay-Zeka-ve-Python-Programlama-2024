{
 "cells": [
  {
   "cell_type": "code",
   "execution_count": null,
   "metadata": {},
   "outputs": [],
   "source": [
    "dizi = [1.1,2.2,3.3,4.4,5.5]\n",
    "matris = [[1,2],[3,4],[5,6]]"
   ]
  },
  {
   "cell_type": "code",
   "execution_count": 18,
   "metadata": {},
   "outputs": [
    {
     "name": "stdout",
     "output_type": "stream",
     "text": [
      "<class 'list'>\n",
      "<class 'numpy.ndarray'>\n",
      "<class 'numpy.ndarray'>\n"
     ]
    }
   ],
   "source": [
    "import numpy as np\n",
    "np_dizi = np.array(dizi,dtype=\"int64\")\n",
    "np_matris = np.array(matris)\n",
    "np_matris2 = np.matrix(matris)\n",
    "print(type(dizi))\n",
    "print(type(np_dizi))\n",
    "print(type(np_matris))"
   ]
  },
  {
   "cell_type": "code",
   "execution_count": 19,
   "metadata": {},
   "outputs": [
    {
     "name": "stdout",
     "output_type": "stream",
     "text": [
      "[1.1, 2.2, 3.3, 4.4, 5.5]\n",
      "[1 2 3 4 5]\n",
      "[[1.2 2. ]\n",
      " [3.  4. ]\n",
      " [5.  6. ]]\n",
      "[[1.2 2. ]\n",
      " [3.  4. ]\n",
      " [5.  6. ]]\n"
     ]
    }
   ],
   "source": [
    "print(dizi)\n",
    "print(np_dizi)\n",
    "print(np_matris)\n",
    "print(np_matris2)"
   ]
  },
  {
   "cell_type": "code",
   "execution_count": 24,
   "metadata": {},
   "outputs": [
    {
     "name": "stdout",
     "output_type": "stream",
     "text": [
      "[[0. 0. 0.]\n",
      " [0. 0. 0.]\n",
      " [0. 0. 0.]\n",
      " [0. 0. 0.]\n",
      " [0. 0. 0.]]\n"
     ]
    }
   ],
   "source": [
    "print(np.zeros((5,3)))"
   ]
  },
  {
   "cell_type": "code",
   "execution_count": null,
   "metadata": {},
   "outputs": [
    {
     "name": "stdout",
     "output_type": "stream",
     "text": [
      "[[12. 12. 12. 12. 12.]\n",
      " [12. 12. 12. 12. 12.]\n",
      " [12. 12. 12. 12. 12.]]\n"
     ]
    }
   ],
   "source": [
    "print(np.ones((3,5)))"
   ]
  },
  {
   "cell_type": "code",
   "execution_count": 41,
   "metadata": {},
   "outputs": [
    {
     "name": "stdout",
     "output_type": "stream",
     "text": [
      "[[1 1 1]\n",
      " [1 1 1]\n",
      " [1 1 1]]\n"
     ]
    }
   ],
   "source": [
    "print(np.full((3,3),65537,dtype=np.int16))"
   ]
  },
  {
   "cell_type": "code",
   "execution_count": 34,
   "metadata": {},
   "outputs": [
    {
     "name": "stdout",
     "output_type": "stream",
     "text": [
      "[[1 0 0]\n",
      " [0 1 0]\n",
      " [0 0 1]]\n"
     ]
    }
   ],
   "source": [
    "print(np.eye(3,dtype=np.int8))"
   ]
  },
  {
   "cell_type": "code",
   "execution_count": 43,
   "metadata": {},
   "outputs": [
    {
     "name": "stdout",
     "output_type": "stream",
     "text": [
      "[[0.66503424 0.41381274 0.75630856]\n",
      " [0.61200074 0.49970424 0.33158042]\n",
      " [0.41846053 0.54420786 0.27978948]]\n"
     ]
    }
   ],
   "source": [
    "print(np.random.rand(3,3))"
   ]
  },
  {
   "cell_type": "code",
   "execution_count": null,
   "metadata": {},
   "outputs": [
    {
     "name": "stdout",
     "output_type": "stream",
     "text": [
      "[2 3 4 5 6 7 8 9]\n",
      "[ 2  4  6  8 10 12 14 16]\n",
      "[False False False False False  True  True  True]\n",
      "[6 7 8]\n"
     ]
    }
   ],
   "source": [
    "dizi = np.array([1,2,3,4,5,6,7,8])\n",
    "print(dizi + 1)\n",
    "print(dizi * 2)\n",
    "print(dizi > 5)\n",
    "print(dizi[dizi>0])"
   ]
  },
  {
   "cell_type": "code",
   "execution_count": 56,
   "metadata": {},
   "outputs": [],
   "source": [
    "matris1 = np.matrix([[2,1],[4,3]])\n",
    "matris2 = np.matrix([[1,2],[3,4]])\n",
    "dizi1 = np.array([[2,1],[4,3]])\n",
    "dizi2 = np.array([[1,2],[3,4]])\n"
   ]
  },
  {
   "cell_type": "code",
   "execution_count": null,
   "metadata": {},
   "outputs": [
    {
     "name": "stdout",
     "output_type": "stream",
     "text": [
      "[[ 2  2]\n",
      " [12 12]]\n",
      "[[ 5  8]\n",
      " [13 20]]\n",
      "1\n"
     ]
    }
   ],
   "source": [
    "print(dizi1 * dizi2)\n",
    "print(dizi1 @ dizi2)\n",
    "\n"
   ]
  },
  {
   "cell_type": "code",
   "execution_count": 59,
   "metadata": {},
   "outputs": [
    {
     "name": "stdout",
     "output_type": "stream",
     "text": [
      "[[ 5  8]\n",
      " [13 20]]\n"
     ]
    }
   ],
   "source": [
    "print(matris1 * matris2)"
   ]
  },
  {
   "cell_type": "code",
   "execution_count": 64,
   "metadata": {},
   "outputs": [
    {
     "name": "stdout",
     "output_type": "stream",
     "text": [
      "dog\n"
     ]
    }
   ],
   "source": [
    "class_to_index = {\"dog\":1,\"cat\":0}\n",
    "index_to_class = [\"cat\",\"dog\"]\n",
    "print(index_to_class[np.argmax([0.375,0.625])])"
   ]
  },
  {
   "cell_type": "code",
   "execution_count": 68,
   "metadata": {},
   "outputs": [
    {
     "name": "stdout",
     "output_type": "stream",
     "text": [
      "[[1 2 3 4 5 6 7 8 9]]\n"
     ]
    }
   ],
   "source": [
    "dizi = np.array([[1,2,3],[4,5,6],[7,8,9]])\n",
    "print(dizi.reshape((1,9)))"
   ]
  },
  {
   "cell_type": "code",
   "execution_count": 69,
   "metadata": {},
   "outputs": [
    {
     "name": "stdout",
     "output_type": "stream",
     "text": [
      "[[1 2 3]\n",
      " [4 5 6]\n",
      " [7 8 9]]\n"
     ]
    }
   ],
   "source": [
    "dizi = np.array([1,2,3,4,5,6,7,8,9])\n",
    "matris = dizi.reshape((3,3))\n",
    "print(matris)"
   ]
  },
  {
   "cell_type": "code",
   "execution_count": 77,
   "metadata": {},
   "outputs": [
    {
     "name": "stdout",
     "output_type": "stream",
     "text": [
      "   2\n",
      "2 x + 4 x + 1\n",
      "2\n",
      "[-1.70710678 -0.29289322]\n",
      " \n",
      "4 x + 4\n",
      "        3     2\n",
      "0.6667 x + 2 x + 1 x\n"
     ]
    }
   ],
   "source": [
    "pl = np.poly1d([2,4,1])\n",
    "print(pl)\n",
    "print(pl.order)\n",
    "print(pl.roots)\n",
    "print(pl.deriv(1))\n",
    "print(pl.integ(1))"
   ]
  }
 ],
 "metadata": {
  "kernelspec": {
   "display_name": "base",
   "language": "python",
   "name": "python3"
  },
  "language_info": {
   "codemirror_mode": {
    "name": "ipython",
    "version": 3
   },
   "file_extension": ".py",
   "mimetype": "text/x-python",
   "name": "python",
   "nbconvert_exporter": "python",
   "pygments_lexer": "ipython3",
   "version": "3.12.2"
  }
 },
 "nbformat": 4,
 "nbformat_minor": 2
}
